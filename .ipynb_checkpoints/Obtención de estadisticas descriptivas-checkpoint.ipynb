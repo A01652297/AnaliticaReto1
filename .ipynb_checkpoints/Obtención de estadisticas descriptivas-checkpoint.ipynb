{
 "cells": [
  {
   "cell_type": "code",
   "execution_count": 2,
   "metadata": {},
   "outputs": [
    {
     "data": {
      "text/html": [
       "<div>\n",
       "<style scoped>\n",
       "    .dataframe tbody tr th:only-of-type {\n",
       "        vertical-align: middle;\n",
       "    }\n",
       "\n",
       "    .dataframe tbody tr th {\n",
       "        vertical-align: top;\n",
       "    }\n",
       "\n",
       "    .dataframe thead th {\n",
       "        text-align: right;\n",
       "    }\n",
       "</style>\n",
       "<table border=\"1\" class=\"dataframe\">\n",
       "  <thead>\n",
       "    <tr style=\"text-align: right;\">\n",
       "      <th></th>\n",
       "      <th>user_name</th>\n",
       "      <th>user_location</th>\n",
       "      <th>user_description</th>\n",
       "      <th>user_created</th>\n",
       "      <th>user_followers</th>\n",
       "      <th>user_friends</th>\n",
       "      <th>user_favourites</th>\n",
       "      <th>user_verified</th>\n",
       "      <th>date</th>\n",
       "      <th>text</th>\n",
       "      <th>hashtags</th>\n",
       "      <th>source</th>\n",
       "      <th>is_retweet</th>\n",
       "    </tr>\n",
       "  </thead>\n",
       "  <tbody>\n",
       "    <tr>\n",
       "      <td>0</td>\n",
       "      <td>ᏉᎥ☻լꂅϮ</td>\n",
       "      <td>astroworld</td>\n",
       "      <td>wednesday addams as a disney princess keepin i...</td>\n",
       "      <td>2017-05-26 05:46:42</td>\n",
       "      <td>624</td>\n",
       "      <td>950</td>\n",
       "      <td>18775</td>\n",
       "      <td>False</td>\n",
       "      <td>2020-07-25 12:27:21</td>\n",
       "      <td>If I smelled the scent of hand sanitizers toda...</td>\n",
       "      <td>NaN</td>\n",
       "      <td>Twitter for iPhone</td>\n",
       "      <td>False</td>\n",
       "    </tr>\n",
       "    <tr>\n",
       "      <td>1</td>\n",
       "      <td>Tom Basile 🇺🇸</td>\n",
       "      <td>New York, NY</td>\n",
       "      <td>Husband, Father, Columnist &amp; Commentator. Auth...</td>\n",
       "      <td>2009-04-16 20:06:23</td>\n",
       "      <td>2253</td>\n",
       "      <td>1677</td>\n",
       "      <td>24</td>\n",
       "      <td>True</td>\n",
       "      <td>2020-07-25 12:27:17</td>\n",
       "      <td>Hey @Yankees @YankeesPR and @MLB - wouldn't it...</td>\n",
       "      <td>NaN</td>\n",
       "      <td>Twitter for Android</td>\n",
       "      <td>False</td>\n",
       "    </tr>\n",
       "    <tr>\n",
       "      <td>2</td>\n",
       "      <td>Time4fisticuffs</td>\n",
       "      <td>Pewee Valley, KY</td>\n",
       "      <td>#Christian #Catholic #Conservative #Reagan #Re...</td>\n",
       "      <td>2009-02-28 18:57:41</td>\n",
       "      <td>9275</td>\n",
       "      <td>9525</td>\n",
       "      <td>7254</td>\n",
       "      <td>False</td>\n",
       "      <td>2020-07-25 12:27:14</td>\n",
       "      <td>@diane3443 @wdunlap @realDonaldTrump Trump nev...</td>\n",
       "      <td>['COVID19']</td>\n",
       "      <td>Twitter for Android</td>\n",
       "      <td>False</td>\n",
       "    </tr>\n",
       "    <tr>\n",
       "      <td>3</td>\n",
       "      <td>ethel mertz</td>\n",
       "      <td>Stuck in the Middle</td>\n",
       "      <td>#Browns #Indians #ClevelandProud #[]_[] #Cavs ...</td>\n",
       "      <td>2019-03-07 01:45:06</td>\n",
       "      <td>197</td>\n",
       "      <td>987</td>\n",
       "      <td>1488</td>\n",
       "      <td>False</td>\n",
       "      <td>2020-07-25 12:27:10</td>\n",
       "      <td>@brookbanktv The one gift #COVID19 has give me...</td>\n",
       "      <td>['COVID19']</td>\n",
       "      <td>Twitter for iPhone</td>\n",
       "      <td>False</td>\n",
       "    </tr>\n",
       "    <tr>\n",
       "      <td>4</td>\n",
       "      <td>DIPR-J&amp;K</td>\n",
       "      <td>Jammu and Kashmir</td>\n",
       "      <td>🖊️Official Twitter handle of Department of Inf...</td>\n",
       "      <td>2017-02-12 06:45:15</td>\n",
       "      <td>101009</td>\n",
       "      <td>168</td>\n",
       "      <td>101</td>\n",
       "      <td>False</td>\n",
       "      <td>2020-07-25 12:27:08</td>\n",
       "      <td>25 July : Media Bulletin on Novel #CoronaVirus...</td>\n",
       "      <td>['CoronaVirusUpdates', 'COVID19']</td>\n",
       "      <td>Twitter for Android</td>\n",
       "      <td>False</td>\n",
       "    </tr>\n",
       "  </tbody>\n",
       "</table>\n",
       "</div>"
      ],
      "text/plain": [
       "         user_name         user_location  \\\n",
       "0           ᏉᎥ☻լꂅϮ            astroworld   \n",
       "1    Tom Basile 🇺🇸          New York, NY   \n",
       "2  Time4fisticuffs      Pewee Valley, KY   \n",
       "3      ethel mertz  Stuck in the Middle    \n",
       "4         DIPR-J&K     Jammu and Kashmir   \n",
       "\n",
       "                                    user_description         user_created  \\\n",
       "0  wednesday addams as a disney princess keepin i...  2017-05-26 05:46:42   \n",
       "1  Husband, Father, Columnist & Commentator. Auth...  2009-04-16 20:06:23   \n",
       "2  #Christian #Catholic #Conservative #Reagan #Re...  2009-02-28 18:57:41   \n",
       "3  #Browns #Indians #ClevelandProud #[]_[] #Cavs ...  2019-03-07 01:45:06   \n",
       "4  🖊️Official Twitter handle of Department of Inf...  2017-02-12 06:45:15   \n",
       "\n",
       "   user_followers  user_friends  user_favourites  user_verified  \\\n",
       "0             624           950            18775          False   \n",
       "1            2253          1677               24           True   \n",
       "2            9275          9525             7254          False   \n",
       "3             197           987             1488          False   \n",
       "4          101009           168              101          False   \n",
       "\n",
       "                  date                                               text  \\\n",
       "0  2020-07-25 12:27:21  If I smelled the scent of hand sanitizers toda...   \n",
       "1  2020-07-25 12:27:17  Hey @Yankees @YankeesPR and @MLB - wouldn't it...   \n",
       "2  2020-07-25 12:27:14  @diane3443 @wdunlap @realDonaldTrump Trump nev...   \n",
       "3  2020-07-25 12:27:10  @brookbanktv The one gift #COVID19 has give me...   \n",
       "4  2020-07-25 12:27:08  25 July : Media Bulletin on Novel #CoronaVirus...   \n",
       "\n",
       "                            hashtags               source  is_retweet  \n",
       "0                                NaN   Twitter for iPhone       False  \n",
       "1                                NaN  Twitter for Android       False  \n",
       "2                        ['COVID19']  Twitter for Android       False  \n",
       "3                        ['COVID19']   Twitter for iPhone       False  \n",
       "4  ['CoronaVirusUpdates', 'COVID19']  Twitter for Android       False  "
      ]
     },
     "execution_count": 2,
     "metadata": {},
     "output_type": "execute_result"
    }
   ],
   "source": [
    "import pandas as pd\n",
    "data= pd.read_csv(\"covid19_tweets.csv\")\n",
    "data.head()"
   ]
  },
  {
   "cell_type": "code",
   "execution_count": 3,
   "metadata": {},
   "outputs": [
    {
     "data": {
      "text/html": [
       "<div>\n",
       "<style scoped>\n",
       "    .dataframe tbody tr th:only-of-type {\n",
       "        vertical-align: middle;\n",
       "    }\n",
       "\n",
       "    .dataframe tbody tr th {\n",
       "        vertical-align: top;\n",
       "    }\n",
       "\n",
       "    .dataframe thead th {\n",
       "        text-align: right;\n",
       "    }\n",
       "</style>\n",
       "<table border=\"1\" class=\"dataframe\">\n",
       "  <thead>\n",
       "    <tr style=\"text-align: right;\">\n",
       "      <th></th>\n",
       "      <th>user_followers</th>\n",
       "      <th>user_friends</th>\n",
       "      <th>user_favourites</th>\n",
       "    </tr>\n",
       "  </thead>\n",
       "  <tbody>\n",
       "    <tr>\n",
       "      <th>count</th>\n",
       "      <td>7.443600e+04</td>\n",
       "      <td>74436.000000</td>\n",
       "      <td>7.443600e+04</td>\n",
       "    </tr>\n",
       "    <tr>\n",
       "      <th>mean</th>\n",
       "      <td>1.059513e+05</td>\n",
       "      <td>2154.721170</td>\n",
       "      <td>1.529747e+04</td>\n",
       "    </tr>\n",
       "    <tr>\n",
       "      <th>std</th>\n",
       "      <td>8.222900e+05</td>\n",
       "      <td>9365.587474</td>\n",
       "      <td>4.668971e+04</td>\n",
       "    </tr>\n",
       "    <tr>\n",
       "      <th>min</th>\n",
       "      <td>0.000000e+00</td>\n",
       "      <td>0.000000</td>\n",
       "      <td>0.000000e+00</td>\n",
       "    </tr>\n",
       "    <tr>\n",
       "      <th>25%</th>\n",
       "      <td>1.660000e+02</td>\n",
       "      <td>153.000000</td>\n",
       "      <td>2.200000e+02</td>\n",
       "    </tr>\n",
       "    <tr>\n",
       "      <th>50%</th>\n",
       "      <td>9.600000e+02</td>\n",
       "      <td>552.000000</td>\n",
       "      <td>1.927000e+03</td>\n",
       "    </tr>\n",
       "    <tr>\n",
       "      <th>75%</th>\n",
       "      <td>5.148000e+03</td>\n",
       "      <td>1780.250000</td>\n",
       "      <td>1.014800e+04</td>\n",
       "    </tr>\n",
       "    <tr>\n",
       "      <th>max</th>\n",
       "      <td>1.389284e+07</td>\n",
       "      <td>497363.000000</td>\n",
       "      <td>2.047197e+06</td>\n",
       "    </tr>\n",
       "  </tbody>\n",
       "</table>\n",
       "</div>"
      ],
      "text/plain": [
       "       user_followers   user_friends  user_favourites\n",
       "count    7.443600e+04   74436.000000     7.443600e+04\n",
       "mean     1.059513e+05    2154.721170     1.529747e+04\n",
       "std      8.222900e+05    9365.587474     4.668971e+04\n",
       "min      0.000000e+00       0.000000     0.000000e+00\n",
       "25%      1.660000e+02     153.000000     2.200000e+02\n",
       "50%      9.600000e+02     552.000000     1.927000e+03\n",
       "75%      5.148000e+03    1780.250000     1.014800e+04\n",
       "max      1.389284e+07  497363.000000     2.047197e+06"
      ]
     },
     "execution_count": 3,
     "metadata": {},
     "output_type": "execute_result"
    }
   ],
   "source": [
    "data.describe()"
   ]
  },
  {
   "cell_type": "code",
   "execution_count": 10,
   "metadata": {},
   "outputs": [
    {
     "name": "stdout",
     "output_type": "stream",
     "text": [
      "user_followers     13892841.0\n",
      "user_friends         497363.0\n",
      "user_favourites     2047197.0\n",
      "dtype: float64\n"
     ]
    }
   ],
   "source": [
    "a = data.describe().transpose()\n",
    "rangos = a['max']-a['min']\n",
    "print(rangos)"
   ]
  },
  {
   "cell_type": "code",
   "execution_count": 8,
   "metadata": {},
   "outputs": [
    {
     "data": {
      "text/plain": [
       "0                  astroworld\n",
       "1                New York, NY\n",
       "2            Pewee Valley, KY\n",
       "3        Stuck in the Middle \n",
       "4           Jammu and Kashmir\n",
       "                 ...         \n",
       "74431           Lexington, KY\n",
       "74432           😷 #stayathome\n",
       "74433             北京, 中华人民共和国\n",
       "74434                     NaN\n",
       "74435             Chicago, IL\n",
       "Name: user_location, Length: 74436, dtype: object"
      ]
     },
     "execution_count": 8,
     "metadata": {},
     "output_type": "execute_result"
    }
   ],
   "source": [
    "data['user_location']"
   ]
  },
  {
   "cell_type": "code",
   "execution_count": 9,
   "metadata": {},
   "outputs": [
    {
     "data": {
      "text/plain": [
       "0        wednesday addams as a disney princess keepin i...\n",
       "1        Husband, Father, Columnist & Commentator. Auth...\n",
       "2        #Christian #Catholic #Conservative #Reagan #Re...\n",
       "3        #Browns #Indians #ClevelandProud #[]_[] #Cavs ...\n",
       "4        🖊️Official Twitter handle of Department of Inf...\n",
       "                               ...                        \n",
       "74431              The only things I collect are memories.\n",
       "74432    Law Prof @DickinsonLaw & Entrepreneur | Crypto...\n",
       "74433    Our mission is to provide news and perspective...\n",
       "74434    Reagan conservative and attorney raised in the...\n",
       "74435    My spectral decomposition has a significant da...\n",
       "Name: user_description, Length: 74436, dtype: object"
      ]
     },
     "execution_count": 9,
     "metadata": {},
     "output_type": "execute_result"
    }
   ],
   "source": [
    "data['user_description']"
   ]
  },
  {
   "cell_type": "code",
   "execution_count": 10,
   "metadata": {},
   "outputs": [
    {
     "data": {
      "text/plain": [
       "0        2017-05-26 05:46:42\n",
       "1        2009-04-16 20:06:23\n",
       "2        2009-02-28 18:57:41\n",
       "3        2019-03-07 01:45:06\n",
       "4        2017-02-12 06:45:15\n",
       "                ...         \n",
       "74431    2010-09-24 02:01:15\n",
       "74432    2013-05-14 20:15:24\n",
       "74433    2018-02-04 12:36:42\n",
       "74434    2014-02-18 03:46:28\n",
       "74435    2016-12-19 19:55:00\n",
       "Name: user_created, Length: 74436, dtype: object"
      ]
     },
     "execution_count": 10,
     "metadata": {},
     "output_type": "execute_result"
    }
   ],
   "source": [
    "data['user_created']"
   ]
  },
  {
   "cell_type": "code",
   "execution_count": 11,
   "metadata": {},
   "outputs": [
    {
     "data": {
      "text/plain": [
       "0           624\n",
       "1          2253\n",
       "2          9275\n",
       "3           197\n",
       "4        101009\n",
       "          ...  \n",
       "74431        85\n",
       "74432      4289\n",
       "74433      1413\n",
       "74434      2554\n",
       "74435       310\n",
       "Name: user_followers, Length: 74436, dtype: int64"
      ]
     },
     "execution_count": 11,
     "metadata": {},
     "output_type": "execute_result"
    }
   ],
   "source": [
    "data['user_followers']"
   ]
  },
  {
   "cell_type": "code",
   "execution_count": 12,
   "metadata": {},
   "outputs": [
    {
     "data": {
      "text/plain": [
       "0         950\n",
       "1        1677\n",
       "2        9525\n",
       "3         987\n",
       "4         168\n",
       "         ... \n",
       "74431     586\n",
       "74432    1066\n",
       "74433     102\n",
       "74434    1733\n",
       "74435    1748\n",
       "Name: user_friends, Length: 74436, dtype: int64"
      ]
     },
     "execution_count": 12,
     "metadata": {},
     "output_type": "execute_result"
    }
   ],
   "source": [
    "data['user_friends']"
   ]
  },
  {
   "cell_type": "code",
   "execution_count": 13,
   "metadata": {},
   "outputs": [
    {
     "data": {
      "text/plain": [
       "0         18775\n",
       "1            24\n",
       "2          7254\n",
       "3          1488\n",
       "4           101\n",
       "          ...  \n",
       "74431      1902\n",
       "74432     53569\n",
       "74433        16\n",
       "74434    129104\n",
       "74435     60133\n",
       "Name: user_favourites, Length: 74436, dtype: int64"
      ]
     },
     "execution_count": 13,
     "metadata": {},
     "output_type": "execute_result"
    }
   ],
   "source": [
    "data['user_favourites']"
   ]
  },
  {
   "cell_type": "code",
   "execution_count": 14,
   "metadata": {},
   "outputs": [
    {
     "data": {
      "text/plain": [
       "0        False\n",
       "1         True\n",
       "2        False\n",
       "3        False\n",
       "4        False\n",
       "         ...  \n",
       "74431    False\n",
       "74432    False\n",
       "74433    False\n",
       "74434    False\n",
       "74435    False\n",
       "Name: user_verified, Length: 74436, dtype: bool"
      ]
     },
     "execution_count": 14,
     "metadata": {},
     "output_type": "execute_result"
    }
   ],
   "source": [
    "data['user_verified']"
   ]
  },
  {
   "cell_type": "code",
   "execution_count": 15,
   "metadata": {},
   "outputs": [
    {
     "data": {
      "text/plain": [
       "0        2020-07-25 12:27:21\n",
       "1        2020-07-25 12:27:17\n",
       "2        2020-07-25 12:27:14\n",
       "3        2020-07-25 12:27:10\n",
       "4        2020-07-25 12:27:08\n",
       "                ...         \n",
       "74431    2020-08-04 03:13:29\n",
       "74432    2020-08-04 03:13:26\n",
       "74433    2020-08-04 03:13:22\n",
       "74434    2020-08-04 03:13:19\n",
       "74435    2020-08-04 03:13:15\n",
       "Name: date, Length: 74436, dtype: object"
      ]
     },
     "execution_count": 15,
     "metadata": {},
     "output_type": "execute_result"
    }
   ],
   "source": [
    "data['date']"
   ]
  },
  {
   "cell_type": "code",
   "execution_count": 16,
   "metadata": {},
   "outputs": [
    {
     "data": {
      "text/plain": [
       "0        If I smelled the scent of hand sanitizers toda...\n",
       "1        Hey @Yankees @YankeesPR and @MLB - wouldn't it...\n",
       "2        @diane3443 @wdunlap @realDonaldTrump Trump nev...\n",
       "3        @brookbanktv The one gift #COVID19 has give me...\n",
       "4        25 July : Media Bulletin on Novel #CoronaVirus...\n",
       "                               ...                        \n",
       "74431    So far this summer I have filled up my lawn mo...\n",
       "74432    ICYMI: REPLAY: #TechIntersect🧩 #16: Isaiah \"@B...\n",
       "74433    Community workers in Tianshan District of Urum...\n",
       "74434    If only we had a responsible media to warn us ...\n",
       "74435    MAGA: #COVID19 is just a cold &amp; it'd be go...\n",
       "Name: text, Length: 74436, dtype: object"
      ]
     },
     "execution_count": 16,
     "metadata": {},
     "output_type": "execute_result"
    }
   ],
   "source": [
    "data['text']"
   ]
  },
  {
   "cell_type": "code",
   "execution_count": 17,
   "metadata": {},
   "outputs": [
    {
     "data": {
      "text/plain": [
       "0                                            NaN\n",
       "1                                            NaN\n",
       "2                                    ['COVID19']\n",
       "3                                    ['COVID19']\n",
       "4              ['CoronaVirusUpdates', 'COVID19']\n",
       "                          ...                   \n",
       "74431              ['COVID19', 'QuarantineLife']\n",
       "74432    ['TechIntersect', 'Bitcoin', 'COVID19']\n",
       "74433                      ['China', 'Xinjiang']\n",
       "74434                                ['COVID19']\n",
       "74435         ['COVID19', 'Hydroxycholoroquine']\n",
       "Name: hashtags, Length: 74436, dtype: object"
      ]
     },
     "execution_count": 17,
     "metadata": {},
     "output_type": "execute_result"
    }
   ],
   "source": [
    "data['hashtags']"
   ]
  },
  {
   "cell_type": "code",
   "execution_count": 18,
   "metadata": {},
   "outputs": [
    {
     "data": {
      "text/plain": [
       "0         Twitter for iPhone\n",
       "1        Twitter for Android\n",
       "2        Twitter for Android\n",
       "3         Twitter for iPhone\n",
       "4        Twitter for Android\n",
       "                ...         \n",
       "74431     Twitter for iPhone\n",
       "74432        Twitter Web App\n",
       "74433        Twitter Web App\n",
       "74434     Twitter for iPhone\n",
       "74435    Twitter for Android\n",
       "Name: source, Length: 74436, dtype: object"
      ]
     },
     "execution_count": 18,
     "metadata": {},
     "output_type": "execute_result"
    }
   ],
   "source": [
    "data['source']"
   ]
  },
  {
   "cell_type": "code",
   "execution_count": 19,
   "metadata": {},
   "outputs": [
    {
     "data": {
      "text/plain": [
       "0        False\n",
       "1        False\n",
       "2        False\n",
       "3        False\n",
       "4        False\n",
       "         ...  \n",
       "74431    False\n",
       "74432    False\n",
       "74433    False\n",
       "74434    False\n",
       "74435    False\n",
       "Name: is_retweet, Length: 74436, dtype: bool"
      ]
     },
     "execution_count": 19,
     "metadata": {},
     "output_type": "execute_result"
    }
   ],
   "source": [
    "data['is_retweet']"
   ]
  },
  {
   "cell_type": "code",
   "execution_count": null,
   "metadata": {},
   "outputs": [],
   "source": []
  },
  {
   "cell_type": "code",
   "execution_count": null,
   "metadata": {},
   "outputs": [],
   "source": []
  },
  {
   "cell_type": "code",
   "execution_count": null,
   "metadata": {},
   "outputs": [],
   "source": []
  },
  {
   "cell_type": "code",
   "execution_count": null,
   "metadata": {},
   "outputs": [],
   "source": []
  }
 ],
 "metadata": {
  "kernelspec": {
   "display_name": "Python 3",
   "language": "python",
   "name": "python3"
  },
  "language_info": {
   "codemirror_mode": {
    "name": "ipython",
    "version": 3
   },
   "file_extension": ".py",
   "mimetype": "text/x-python",
   "name": "python",
   "nbconvert_exporter": "python",
   "pygments_lexer": "ipython3",
   "version": "3.7.4"
  }
 },
 "nbformat": 4,
 "nbformat_minor": 4
}
